{
 "cells": [
  {
   "cell_type": "code",
   "execution_count": 1,
   "metadata": {},
   "outputs": [],
   "source": [
    "import json\n",
    "import os\n",
    "from glob import glob\n",
    "from tqdm import tqdm\n",
    "from collections import defaultdict\n",
    "from transformers import BertTokenizer\n",
    "import pickle\n",
    "import argparse"
   ]
  },
  {
   "cell_type": "code",
   "execution_count": 2,
   "metadata": {},
   "outputs": [],
   "source": [
    "indir = os.path.join('data','cofea_processed')\n",
    "outdir = os.path.join('data','cofea_processed')\n",
    "files = sorted(glob(os.path.join(indir, '*_tokenized.jsonlist')))\n",
    "word_file = os.path.join('data','constitution_words.txt')\n",
    "tokenizer = BertTokenizer.from_pretrained('bert-base-uncased')"
   ]
  },
  {
   "cell_type": "code",
   "execution_count": 3,
   "metadata": {},
   "outputs": [],
   "source": [
    "# tokenize key words and phrases\n",
    "with open(word_file, 'r',encoding = 'utf-8') as f:\n",
    "    target_words = f.read().splitlines()\n",
    "target_words = [tokenizer.tokenize(x) for x in target_words]\n",
    "target_words_cleaned = []\n",
    "for x in target_words:\n",
    "    # rejoin into concatenated words\n",
    "    rejoined_pieces = []\n",
    "    for p_i, piece in enumerate(x):\n",
    "        if p_i == 0:\n",
    "            rejoined_pieces.append(piece)\n",
    "        elif piece.startswith('##'):\n",
    "            rejoined_pieces[-1] += piece\n",
    "        else:\n",
    "            rejoined_pieces.append(piece)\n",
    "    target_words_cleaned.append(rejoined_pieces)"
   ]
  },
  {
   "cell_type": "code",
   "execution_count": null,
   "metadata": {},
   "outputs": [
    {
     "name": "stderr",
     "output_type": "stream",
     "text": [
      " 98%|█████████▊| 170781/174716 [04:57<02:35, 25.31it/s]  "
     ]
    }
   ],
   "source": [
    "index = defaultdict(set)\n",
    "# collect index of tokens in the documents\n",
    "for i,file in enumerate(files):\n",
    "    with open(file) as f:\n",
    "        docs = f.readlines()\n",
    "    for x,doc in enumerate(tqdm(docs)):\n",
    "        doc = json.loads(doc)\n",
    "        tokens = doc['tokens']\n",
    "        doc_index = 0\n",
    "        token = []\n",
    "        token_index = 0\n",
    "        while doc_index < len(tokens):\n",
    "            if doc_index == 0:\n",
    "                token = tokens[doc_index]\n",
    "            elif tokens[doc_index].startswith('##'):\n",
    "                token += tokens[doc_index]    \n",
    "            else:\n",
    "                #save the current token and its start index\n",
    "                index[token].add((i,x,token_index))\n",
    "                #start a new token\n",
    "                token = tokens[doc_index]\n",
    "                token_index = doc_index\n",
    "            #save the final token if we are at the end   \n",
    "            if doc_index == len(tokens)-1:\n",
    "                index[token].add((i,x,token_index))\n",
    "            \n",
    "            #update the index based on the broken up tokens, not the whole word             \n",
    "            doc_index += 1 "
   ]
  },
  {
   "cell_type": "code",
   "execution_count": null,
   "metadata": {},
   "outputs": [],
   "source": [
    "# additional check"
   ]
  },
  {
   "cell_type": "code",
   "execution_count": 9,
   "metadata": {},
   "outputs": [
    {
     "name": "stderr",
     "output_type": "stream",
     "text": [
      "100%|██████████| 1053/1053 [00:09<00:00, 111.91it/s]\n"
     ]
    }
   ],
   "source": [
    "target_index = {}\n",
    "for word in tqdm(target_words_cleaned):\n",
    "    if len(word) == 1:\n",
    "        # just one word\n",
    "        target_index[word[0]]=index.get(word[0],set())\n",
    "\n",
    "    else:\n",
    "        # we have a phrase\n",
    "        phrase_indexes = []\n",
    "        start = index.get(word[0])\n",
    "        for f_id,doc_id,doc_index in start:\n",
    "            match = False\n",
    "            for x,piece in enumerate(word[1:]):\n",
    "                if (f_id,doc_id,doc_index+x+1) in index.get(piece,set()):  \n",
    "                    match = True\n",
    "                else:\n",
    "                    match = False\n",
    "                    break\n",
    "\n",
    "            if match:\n",
    "                phrase_indexes.append((f_id,doc_id,doc_index))\n",
    "        target_index[' '.join(word)] = set(phrase_indexes)\n"
   ]
  },
  {
   "cell_type": "code",
   "execution_count": 20,
   "metadata": {},
   "outputs": [],
   "source": [
    "with open(os.path.join(outdir,'target_word_index.dict'),'wb') as f:\n",
    "    pickle.dump(target_index,file=f)"
   ]
  }
 ],
 "metadata": {
  "kernelspec": {
   "display_name": "Python 3",
   "language": "python",
   "name": "python3"
  },
  "language_info": {
   "codemirror_mode": {
    "name": "ipython",
    "version": 3
   },
   "file_extension": ".py",
   "mimetype": "text/x-python",
   "name": "python",
   "nbconvert_exporter": "python",
   "pygments_lexer": "ipython3",
   "version": "3.8.8"
  }
 },
 "nbformat": 4,
 "nbformat_minor": 4
}
