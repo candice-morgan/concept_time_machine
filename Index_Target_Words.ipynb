{
 "cells": [
  {
   "cell_type": "code",
   "execution_count": 1,
   "metadata": {},
   "outputs": [],
   "source": [
    "import json\n",
    "import os\n",
    "from glob import glob\n",
    "from tqdm import tqdm\n",
    "from collections import defaultdict\n",
    "from transformers import BertTokenizer\n",
    "import pickle\n",
    "import argparse"
   ]
  },
  {
   "cell_type": "code",
   "execution_count": 2,
   "metadata": {},
   "outputs": [],
   "source": [
    "indir = os.path.join('data','preprocessed')\n",
    "outdir = os.path.join('data','preprocessed')\n",
    "files = sorted(glob(os.path.join(indir, '*_tokenized.jsonlist')))\n",
    "index_file = os.path.join(indir,'cofea_full_index.dict')\n",
    "target_file = os.path.join(outdir,'target_word_index.dict')\n",
    "word_file = os.path.join('data','new_constitution_words.txt')\n",
    "#second_word_file = os.path.join('data','bigrams.txt')\n",
    "tokenizer = BertTokenizer.from_pretrained('bert-base-uncased')"
   ]
  },
  {
   "cell_type": "code",
   "execution_count": 3,
   "metadata": {},
   "outputs": [],
   "source": [
    "# tokenize key words and phrases\n",
    "with open(word_file, 'r',encoding = 'utf-8') as f:\n",
    "    target_words = f.read().splitlines()\n",
    "# tokenize key words and phrases adding an additional file\n",
    "#with open(second_word_file, 'r',encoding = 'utf-8') as f:\n",
    "#    target_words += f.read().splitlines()\n",
    "    \n",
    "target_words = list(set(target_words))\n",
    "target_words = [tokenizer.tokenize(x) for x in target_words]\n",
    "target_words_cleaned = []\n",
    "for x in target_words:\n",
    "    # rejoin into concatenated words\n",
    "    rejoined_pieces = []\n",
    "    for p_i, piece in enumerate(x):\n",
    "        if p_i == 0:\n",
    "            rejoined_pieces.append(piece)\n",
    "        elif piece.startswith('##'):\n",
    "            rejoined_pieces[-1] += piece\n",
    "        else:\n",
    "            rejoined_pieces.append(piece)\n",
    "    target_words_cleaned.append(rejoined_pieces)"
   ]
  },
  {
   "cell_type": "code",
   "execution_count": 4,
   "metadata": {},
   "outputs": [],
   "source": [
    "# get index\n",
    "with open(index_file,'rb') as f:\n",
    "    index = pickle.load(f)"
   ]
  },
  {
   "cell_type": "code",
   "execution_count": 45,
   "metadata": {},
   "outputs": [
    {
     "name": "stderr",
     "output_type": "stream",
     "text": [
      "100%|████████████████████████████████████████████| 4/4 [00:00<00:00, 114.37it/s]\n"
     ]
    }
   ],
   "source": [
    "target_index = {}\n",
    "for word in tqdm(target_words_cleaned):\n",
    "    if len(word) == 1:\n",
    "        # just one word\n",
    "        target_index[word[0]]=index.get(word[0],set())\n",
    "\n",
    "    elif len(word) > 1:\n",
    "        # we have a phrase\n",
    "        phrase_indexes = []\n",
    "        start = index.get(word[0])\n",
    "        for f_id,doc_id,doc_index in start:\n",
    "            match = False\n",
    "            offset = 0\n",
    "            for x,piece in enumerate(word[1:]):\n",
    "                offset += len(word[x].split('##'))# we indexed words by their individual token so ha##be##as is ha ##be ##as\n",
    "                if (f_id,doc_id,doc_index+offset) in index[piece]:  \n",
    "                    match = True\n",
    "                else:\n",
    "                    match = False\n",
    "                    break\n",
    "\n",
    "            if match:\n",
    "                phrase_indexes.append((f_id,doc_id,doc_index))\n",
    "        target_index[' '.join(word)] = set(phrase_indexes)\n"
   ]
  },
  {
   "cell_type": "code",
   "execution_count": null,
   "metadata": {},
   "outputs": [],
   "source": [
    "with open(target_file,'wb') as f:\n",
    "    pickle.dump(target_index,file=f)"
   ]
  },
  {
   "cell_type": "code",
   "execution_count": null,
   "metadata": {},
   "outputs": [],
   "source": []
  }
 ],
 "metadata": {
  "kernelspec": {
   "display_name": "Python 3 (ipykernel)",
   "language": "python",
   "name": "python3"
  },
  "language_info": {
   "codemirror_mode": {
    "name": "ipython",
    "version": 3
   },
   "file_extension": ".py",
   "mimetype": "text/x-python",
   "name": "python",
   "nbconvert_exporter": "python",
   "pygments_lexer": "ipython3",
   "version": "3.9.7"
  }
 },
 "nbformat": 4,
 "nbformat_minor": 4
}
