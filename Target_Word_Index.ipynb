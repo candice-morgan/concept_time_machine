{
 "cells": [
  {
   "cell_type": "code",
   "execution_count": 1,
   "metadata": {},
   "outputs": [
    {
     "name": "stderr",
     "output_type": "stream",
     "text": [
      "2021-12-03 12:30:25.099537: W tensorflow/stream_executor/platform/default/dso_loader.cc:64] Could not load dynamic library 'libcudart.so.11.0'; dlerror: libcudart.so.11.0: cannot open shared object file: No such file or directory\n",
      "2021-12-03 12:30:25.099629: I tensorflow/stream_executor/cuda/cudart_stub.cc:29] Ignore above cudart dlerror if you do not have a GPU set up on your machine.\n"
     ]
    }
   ],
   "source": [
    "import json\n",
    "import os\n",
    "from glob import glob\n",
    "from tqdm import tqdm\n",
    "from collections import defaultdict\n",
    "from transformers import BertTokenizer\n",
    "import pickle\n",
    "import argparse"
   ]
  },
  {
   "cell_type": "code",
   "execution_count": 4,
   "metadata": {},
   "outputs": [],
   "source": [
    "indir = os.path.join('data','preprocessed')\n",
    "outdir = os.path.join('data','preprocessed')\n",
    "files = sorted(glob(os.path.join(indir, '*_tokenized.jsonlist')))\n",
    "index_file = os.path.join(indir,'cofea_full_index.dict')\n",
    "target_file = os.path.join(outdir,'target_word_index.dict')\n",
    "word_file = os.path.join('data','constitution_words.txt')\n",
    "tokenizer = BertTokenizer.from_pretrained('bert-base-uncased')"
   ]
  },
  {
   "cell_type": "code",
   "execution_count": 5,
   "metadata": {},
   "outputs": [],
   "source": [
    "# tokenize key words and phrases\n",
    "with open(word_file, 'r',encoding = 'utf-8') as f:\n",
    "    target_words = f.read().splitlines()\n",
    "target_words = [tokenizer.tokenize(x) for x in target_words]\n",
    "target_words_cleaned = []\n",
    "for x in target_words:\n",
    "    # rejoin into concatenated words\n",
    "    rejoined_pieces = []\n",
    "    for p_i, piece in enumerate(x):\n",
    "        if p_i == 0:\n",
    "            rejoined_pieces.append(piece)\n",
    "        elif piece.startswith('##'):\n",
    "            rejoined_pieces[-1] += piece\n",
    "        else:\n",
    "            rejoined_pieces.append(piece)\n",
    "    target_words_cleaned.append(rejoined_pieces)"
   ]
  },
  {
   "cell_type": "code",
   "execution_count": 7,
   "metadata": {},
   "outputs": [],
   "source": [
    "# get index\n",
    "with open(index_file,'rb') as f:\n",
    "    index = pickle.load(f)"
   ]
  },
  {
   "cell_type": "code",
   "execution_count": 8,
   "metadata": {},
   "outputs": [
    {
     "name": "stderr",
     "output_type": "stream",
     "text": [
      "100%|████████████████████████████████████████████████████████| 1056/1056 [00:00<00:00, 1620.35it/s]\n"
     ]
    }
   ],
   "source": [
    "target_index = {}\n",
    "for word in tqdm(target_words_cleaned):\n",
    "    if len(word) == 1:\n",
    "        # just one word\n",
    "        target_index[word[0]]=index.get(word[0],set())\n",
    "\n",
    "    elif len(word) > 1:\n",
    "        # we have a phrase\n",
    "        phrase_indexes = []\n",
    "        start = index.get(word[0])\n",
    "        for f_id,doc_id,doc_index in start:\n",
    "            match = False\n",
    "            for x,piece in enumerate(word[1:]):\n",
    "                if (f_id,doc_id,doc_index+x+1) in index.get(piece,set()):  \n",
    "                    match = True\n",
    "                else:\n",
    "                    match = False\n",
    "                    break\n",
    "\n",
    "            if match:\n",
    "                phrase_indexes.append((f_id,doc_id,doc_index))\n",
    "        target_index[' '.join(word)] = set(phrase_indexes)\n"
   ]
  },
  {
   "cell_type": "code",
   "execution_count": 9,
   "metadata": {},
   "outputs": [],
   "source": [
    "with open(target_file,'wb') as f:\n",
    "    pickle.dump(target_index,file=f)"
   ]
  }
 ],
 "metadata": {
  "kernelspec": {
   "display_name": "Python 3 (ipykernel)",
   "language": "python",
   "name": "python3"
  },
  "language_info": {
   "codemirror_mode": {
    "name": "ipython",
    "version": 3
   },
   "file_extension": ".py",
   "mimetype": "text/x-python",
   "name": "python",
   "nbconvert_exporter": "python",
   "pygments_lexer": "ipython3",
   "version": "3.9.7"
  }
 },
 "nbformat": 4,
 "nbformat_minor": 4
}
