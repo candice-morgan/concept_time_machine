{
 "cells": [
  {
   "cell_type": "code",
   "execution_count": 1,
   "metadata": {},
   "outputs": [],
   "source": [
    "import json\n",
    "import os\n",
    "from glob import glob\n",
    "from tqdm import tqdm\n",
    "from transformers import BertTokenizer\n",
    "import logging"
   ]
  },
  {
   "cell_type": "code",
   "execution_count": 5,
   "metadata": {},
   "outputs": [],
   "source": [
    "indir = os.path.join('data','preprocessed')\n",
    "outdir = os.path.join('data','preprocessed')\n",
    "files = sorted(glob(os.path.join(indir, '*.jsonlist')))\n",
    "files = [x for x in files if 'tokenized' not in x]\n",
    "tokenizer = BertTokenizer.from_pretrained('bert-base-uncased')"
   ]
  },
  {
   "cell_type": "code",
   "execution_count": 7,
   "metadata": {},
   "outputs": [
    {
     "name": "stderr",
     "output_type": "stream",
     "text": [
      "100%|███████████████████████████████████| 187592/187592 [46:07<00:00, 67.78it/s]\n"
     ]
    }
   ],
   "source": [
    "logging.disable(logging.WARNING)\n",
    "for infile in files:\n",
    "    basename = os.path.basename(infile).replace('.jsonlist',\"\")+'_tokenized.jsonlist'\n",
    "    doc_id = 0\n",
    "    with open(infile) as f:\n",
    "        docs = f.readlines()\n",
    "        \n",
    "    outlines = []\n",
    "    for doc in tqdm(docs):\n",
    "        doc = json.loads(doc)\n",
    "        doc_id = doc['id']\n",
    "        text = doc['text']\n",
    "        # convert to tokens using BERT\n",
    "        raw_pieces = [tokenizer.ids_to_tokens[i] for i in tokenizer.encode(text, add_special_tokens=False)]\n",
    "        # rejoin into concatenated words\n",
    "        rejoined_pieces = []\n",
    "        if len(raw_pieces) > 0:\n",
    "            for p_i, piece in enumerate(raw_pieces):\n",
    "                if p_i == 0:\n",
    "                    rejoined_pieces.append(piece)\n",
    "                elif piece.startswith('##'):\n",
    "                    rejoined_pieces[-1] += piece\n",
    "                else:\n",
    "                    rejoined_pieces.append(piece)\n",
    "            text = [x.replace('##',\"\") for x in raw_pieces]\n",
    "            text = ' '.join(text)\n",
    "            outlines.append({'doc_id': doc_id, 'text': text, 'tokens': raw_pieces})\n",
    "            \n",
    "    outfile = os.path.join(outdir, basename)\n",
    "    with open(outfile, 'w') as fo:\n",
    "        for line in outlines:\n",
    "            fo.write(json.dumps(line) + '\\n')\n",
    "    \n",
    "        \n",
    "        "
   ]
  },
  {
   "cell_type": "code",
   "execution_count": null,
   "metadata": {},
   "outputs": [],
   "source": []
  }
 ],
 "metadata": {
  "kernelspec": {
   "display_name": "Python 3 (ipykernel)",
   "language": "python",
   "name": "python3"
  },
  "language_info": {
   "codemirror_mode": {
    "name": "ipython",
    "version": 3
   },
   "file_extension": ".py",
   "mimetype": "text/x-python",
   "name": "python",
   "nbconvert_exporter": "python",
   "pygments_lexer": "ipython3",
   "version": "3.9.7"
  }
 },
 "nbformat": 4,
 "nbformat_minor": 4
}
