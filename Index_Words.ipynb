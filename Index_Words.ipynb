{
 "cells": [
  {
   "cell_type": "code",
   "execution_count": 1,
   "metadata": {},
   "outputs": [
    {
     "name": "stderr",
     "output_type": "stream",
     "text": [
      "2021-11-16 15:32:51.379827: W tensorflow/stream_executor/platform/default/dso_loader.cc:64] Could not load dynamic library 'libcudart.so.11.0'; dlerror: libcudart.so.11.0: cannot open shared object file: No such file or directory\n",
      "2021-11-16 15:32:51.379894: I tensorflow/stream_executor/cuda/cudart_stub.cc:29] Ignore above cudart dlerror if you do not have a GPU set up on your machine.\n"
     ]
    }
   ],
   "source": [
    "import json\n",
    "import os\n",
    "from glob import glob\n",
    "from tqdm import tqdm\n",
    "from collections import defaultdict\n",
    "import pickle\n",
    "import argparse"
   ]
  },
  {
   "cell_type": "code",
   "execution_count": 2,
   "metadata": {},
   "outputs": [],
   "source": [
    "indir = os.path.join('data','preprocessed')\n",
    "outdir = os.path.join('data','preprocessed')\n",
    "outfile = os.path.join('data','preprocessed','cofea_full_index.dict')\n",
    "files = sorted(glob(os.path.join(indir, '*_tokenized.jsonlist')))"
   ]
  },
  {
   "cell_type": "code",
   "execution_count": 4,
   "metadata": {},
   "outputs": [
    {
     "name": "stderr",
     "output_type": "stream",
     "text": [
      "100%|███████████████████████████████████████| 174686/174686 [13:23<00:00, 217.45it/s]\n"
     ]
    }
   ],
   "source": [
    "index = defaultdict(set)\n",
    "# collect index of tokens in the documents\n",
    "for i,file in enumerate(files):\n",
    "    with open(file) as f:\n",
    "        docs = f.readlines()\n",
    "    for x,doc in enumerate(tqdm(docs)):\n",
    "        doc = json.loads(doc)\n",
    "        tokens = doc['tokens']\n",
    "        doc_index = 0\n",
    "        token = []\n",
    "        token_index = 0\n",
    "        while doc_index < len(tokens):\n",
    "            if doc_index == 0:\n",
    "                token = tokens[doc_index]\n",
    "            elif tokens[doc_index].startswith('##'):\n",
    "                token += tokens[doc_index]    \n",
    "            else:\n",
    "                #save the current token and its start index\n",
    "                index[token].add((i,x,token_index))\n",
    "                #start a new token\n",
    "                token = tokens[doc_index]\n",
    "                token_index = doc_index\n",
    "            #save the final token if we are at the end   \n",
    "            if doc_index == len(tokens)-1:\n",
    "                index[token].add((i,x,token_index))\n",
    "            \n",
    "            #update the index based on the broken up tokens, not the whole word             \n",
    "            doc_index += 1 "
   ]
  },
  {
   "cell_type": "code",
   "execution_count": null,
   "metadata": {},
   "outputs": [],
   "source": [
    "with open(outfile,'wb') as f:\n",
    "    pickle.dump(index,file=f)"
   ]
  }
 ],
 "metadata": {
  "kernelspec": {
   "display_name": "Python 3 (ipykernel)",
   "language": "python",
   "name": "python3"
  },
  "language_info": {
   "codemirror_mode": {
    "name": "ipython",
    "version": 3
   },
   "file_extension": ".py",
   "mimetype": "text/x-python",
   "name": "python",
   "nbconvert_exporter": "python",
   "pygments_lexer": "ipython3",
   "version": "3.9.7"
  }
 },
 "nbformat": 4,
 "nbformat_minor": 4
}
