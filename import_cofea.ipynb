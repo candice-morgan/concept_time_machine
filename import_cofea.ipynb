{
 "cells": [
  {
   "cell_type": "code",
   "execution_count": 2,
   "metadata": {},
   "outputs": [],
   "source": [
    "import os\n",
    "import re\n",
    "import json\n",
    "from glob import glob"
   ]
  },
  {
   "cell_type": "code",
   "execution_count": 14,
   "metadata": {},
   "outputs": [
    {
     "name": "stdout",
     "output_type": "stream",
     "text": [
      "data/cofea_full/hein_output.json 285 <class 'list'>\n",
      "data/cofea_full/farrands_output.json 847 <class 'list'>\n",
      "data/cofea_full/elliots_output.json 652 <class 'list'>\n",
      "data/cofea_full/founders_output.json 181309 <class 'list'>\n",
      "data/cofea_full/statutes_output.json 481 <class 'list'>\n",
      "data/cofea_full/evans_output.json 4977 <class 'list'>\n"
     ]
    }
   ],
   "source": [
    "# load the data and fix some errors\n",
    "indir = os.path.join('data','cofea_full')\n",
    "# /john9/scr1/dcard/COFEA/cd Tim\n",
    "files = [os.path.join(indir,f) for f in os.listdir(indir) if os.path.isfile(os.path.join(indir, f)) and \".json\" in f]\n",
    "docs = []\n",
    "for infile in files:\n",
    "    basename = os.path.basename(infile)\n",
    "    \n",
    "    with open(infile) as f:\n",
    "        data = json.load(f)        \n",
    "    print(infile, len(data), type(data))    \n",
    "    for d in data:\n",
    "        # fix one document with many problems (http://founders.archives.gov/documents/Jefferson/99-01-02-9951)\n",
    "        if d['id'] == 'fndrs.jefferson.99-01-02-9951':            \n",
    "            d['author'] == 'Wright, Robert'\n",
    "            d['year'] = 1809\n",
    "            d['decade'] = 1800\n",
    "            d['collection'] = 'Jefferson Papers'\n",
    "        # fix another that has year and decade listed as 2000:\n",
    "        elif d['id'] == 'fndrs.jefferson.01-42-02-0442-0002':\n",
    "            d['year'] = 1804\n",
    "            d['decade'] = 1800\n",
    "        # fix one document that clearly has the wrong year/decade (17626/17606)\n",
    "        elif d['id'] == 'evans.N07112':\n",
    "            d['year'] = 1762\n",
    "            d['decade'] = 1760\n",
    "        # fix years and decades for Elliot's debates (many listed as \"2018\")\n",
    "        elif d['source'] == \"Elliot's Debates\":\n",
    "            if 'year' in d and int(d['year']) == 2018:\n",
    "                d.pop('year')\n",
    "            d['decade'] = 1780\n",
    "        # convert all years and decades to ints\n",
    "        if 'year' in d:\n",
    "            d['year'] = int(d['year'])\n",
    "        if 'decade' in d:\n",
    "            d['decade'] = int(d['decade'])\n",
    "        if d['title'] != 'Editorial Note':\n",
    "            docs.append(d)"
   ]
  },
  {
   "cell_type": "code",
   "execution_count": 28,
   "metadata": {},
   "outputs": [],
   "source": [
    "# save founders in needed output\n",
    "sources = ['Evans Early American Imprints','National Archives Founders Online']\n",
    "outfnames = ['evans','founders']\n",
    "outdir = os.path.join('data','cofea_full','bert_data')\n",
    "first = 1640\n",
    "last = 1830\n",
    "\n",
    "for decade in range(first, last+1, 10):\n",
    "    for i,s in enumerate(sources):\n",
    "        outlines = []\n",
    "        for d in docs:\n",
    "            if 'source' in d and 'year' in d and 'decade' in d:\n",
    "                if d['source'] == s:\n",
    "                    outlines.append({'id': d['id'],\n",
    "                                                 'decade': d['decade'],\n",
    "                                                 'year': int(d['year']),\n",
    "                                                 'source': d['source'],\n",
    "                                                 'text': d['body'],\n",
    "                                                 })\n",
    "        if len(outlines)> 0:\n",
    "            with open(os.path.join(outdir, outfnames[i] +'_' + str(decade) + 's.jsonlist'), 'w') as f:\n",
    "                    for line in outlines:\n",
    "                        f.write(json.dumps(line) + '\\n')\n"
   ]
  }
 ],
 "metadata": {
  "kernelspec": {
   "display_name": "cs224n",
   "language": "python",
   "name": "cs224n"
  },
  "language_info": {
   "codemirror_mode": {
    "name": "ipython",
    "version": 3
   },
   "file_extension": ".py",
   "mimetype": "text/x-python",
   "name": "python",
   "nbconvert_exporter": "python",
   "pygments_lexer": "ipython3",
   "version": "3.8.3"
  }
 },
 "nbformat": 4,
 "nbformat_minor": 4
}
