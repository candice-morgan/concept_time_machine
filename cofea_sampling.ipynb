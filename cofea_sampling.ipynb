{
 "cells": [
  {
   "cell_type": "code",
   "execution_count": 1,
   "id": "167c7bde",
   "metadata": {},
   "outputs": [],
   "source": [
    "import json\n",
    "import os\n",
    "from glob import glob\n",
    "from tqdm import tqdm\n",
    "from collections import defaultdict\n",
    "import pickle\n",
    "import argparse\n",
    "import random"
   ]
  },
  {
   "cell_type": "code",
   "execution_count": 2,
   "id": "83a3b94c",
   "metadata": {},
   "outputs": [],
   "source": [
    "indir = os.path.join('data','preprocessed')\n",
    "outdir = os.path.join('data','preprocessed')\n",
    "data_file = os.path.join(indir, 'cofea.jsonlist')\n",
    "target_index_file = os.path.join(indir,'target_word_index.dict')\n",
    "outfile = os.path.join(outdir,'sample_target_index.dict')\n",
    "filter_source = ['Evans Early American Imprints','William S. Hein & Co., HeinOnline','National Archives Founders Online']\n",
    "filter_year = [1750,1810]\n",
    "sample_size = 5000"
   ]
  },
  {
   "cell_type": "code",
   "execution_count": 3,
   "id": "232b7861",
   "metadata": {},
   "outputs": [],
   "source": [
    "with open(data_file) as f:\n",
    "     cofea_data = f.readlines()"
   ]
  },
  {
   "cell_type": "code",
   "execution_count": 4,
   "id": "a29147dd",
   "metadata": {},
   "outputs": [],
   "source": [
    "with open(target_index_file,'rb') as f:\n",
    "    target_index = pickle.load(f)"
   ]
  },
  {
   "cell_type": "code",
   "execution_count": 5,
   "id": "5b23c495",
   "metadata": {},
   "outputs": [],
   "source": [
    "# need to get a list of all docs that are in specified sources\n",
    "elligible_docs = []\n",
    "for x,doc in enumerate(cofea_data):\n",
    "    doc = json.loads(doc)\n",
    "    if doc['source'] in filter_source and (filter_year[0] <= doc['decade'] <= filter_year[1] ):\n",
    "        elligible_docs.append(x)\n",
    "\n",
    "elligible_docs = set(elligible_docs)"
   ]
  },
  {
   "cell_type": "code",
   "execution_count": 6,
   "id": "abe56fc3",
   "metadata": {},
   "outputs": [
    {
     "name": "stderr",
     "output_type": "stream",
     "text": [
      "100%|█████████████████████████████████████████| 893/893 [00:13<00:00, 66.92it/s]\n"
     ]
    }
   ],
   "source": [
    "sampled_target = {}\n",
    "for word in tqdm(target_index):\n",
    "    index = []\n",
    "    for f_ind,doc_ind,ind in target_index[word]:\n",
    "        # only sample documents from the sources we want and not the first two words in the document\n",
    "        if doc_ind in elligible_docs and ind > 2:\n",
    "            index.append((f_ind,doc_ind,ind))\n",
    "            \n",
    "    if len(index) > sample_size:\n",
    "        random.seed(42)\n",
    "        sample_index = random.sample(index,sample_size)\n",
    "    else:\n",
    "        sample_index = index\n",
    "        \n",
    "    sampled_target[word] = sample_index"
   ]
  },
  {
   "cell_type": "code",
   "execution_count": 7,
   "id": "84cdebde",
   "metadata": {},
   "outputs": [],
   "source": [
    "with open(outfile,'wb') as f:\n",
    "    pickle.dump(sampled_target,file=f)"
   ]
  },
  {
   "cell_type": "code",
   "execution_count": null,
   "id": "3a7e64f9",
   "metadata": {},
   "outputs": [],
   "source": [
    "# checking the examples\n",
    "# collect index of tokens in the documents\n",
    "file = sorted(glob(os.path.join(indir, '*_tokenized.jsonlist')))[0]\n",
    "with open(file) as f:\n",
    "    docs = f.readlines()"
   ]
  },
  {
   "cell_type": "code",
   "execution_count": null,
   "id": "56dbfdb7",
   "metadata": {},
   "outputs": [],
   "source": [
    "for _,doc_id,index in sampled_target['bear arms']:\n",
    "    doc = json.loads(docs[doc_id])\n",
    "    print(str(doc_id)+': '+ str(index))\n",
    "    print(doc['tokens'][index -1] + ' ' + doc['tokens'][index] + ' '+ doc['tokens'][index+1])"
   ]
  },
  {
   "cell_type": "code",
   "execution_count": null,
   "id": "55888f15",
   "metadata": {},
   "outputs": [],
   "source": [
    "len(sampled_target['bear arms'])"
   ]
  },
  {
   "cell_type": "code",
   "execution_count": null,
   "id": "e3e1ba48",
   "metadata": {},
   "outputs": [],
   "source": []
  }
 ],
 "metadata": {
  "kernelspec": {
   "display_name": "Python 3 (ipykernel)",
   "language": "python",
   "name": "python3"
  },
  "language_info": {
   "codemirror_mode": {
    "name": "ipython",
    "version": 3
   },
   "file_extension": ".py",
   "mimetype": "text/x-python",
   "name": "python",
   "nbconvert_exporter": "python",
   "pygments_lexer": "ipython3",
   "version": "3.9.7"
  }
 },
 "nbformat": 4,
 "nbformat_minor": 5
}
